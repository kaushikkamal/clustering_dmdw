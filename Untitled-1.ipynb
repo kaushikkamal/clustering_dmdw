{
 "metadata": {
  "language_info": {
   "codemirror_mode": {
    "name": "ipython",
    "version": 3
   },
   "file_extension": ".py",
   "mimetype": "text/x-python",
   "name": "python",
   "nbconvert_exporter": "python",
   "pygments_lexer": "ipython3",
   "version": "3.7.0"
  },
  "orig_nbformat": 2,
  "kernelspec": {
   "name": "python3",
   "display_name": "Python 3.7.0 64-bit",
   "metadata": {
    "interpreter": {
     "hash": "04635d289a519a1410467dd0afb0db42f9184808881ca68b2eb5a687a20a5a94"
    }
   }
  },
  "metadata": {
   "interpreter": {
    "hash": "247ab06e135bb35fa78c5eff31b2a9a0050dcb5fb773c2631d2a29ac689eeccb"
   }
  }
 },
 "nbformat": 4,
 "nbformat_minor": 2,
 "cells": [
  {
   "cell_type": "code",
   "execution_count": 83,
   "metadata": {},
   "outputs": [],
   "source": [
    "import math"
   ]
  },
  {
   "cell_type": "code",
   "execution_count": 84,
   "metadata": {},
   "outputs": [],
   "source": [
    "def distance(a,b,c,d):\n",
    "    return math.sqrt((a-c)**2+(b-d)**2)\n"
   ]
  },
  {
   "cell_type": "code",
   "execution_count": 85,
   "metadata": {},
   "outputs": [
    {
     "output_type": "stream",
     "name": "stdout",
     "text": [
      "1.4142135623730951 0.0\n"
     ]
    }
   ],
   "source": [
    "a1 = distance(3,4,2,3)\n",
    "a2 = distance(3,4,3,4)\n",
    "print(a1,a2)"
   ]
  },
  {
   "cell_type": "code",
   "execution_count": 86,
   "metadata": {},
   "outputs": [
    {
     "output_type": "stream",
     "name": "stdout",
     "text": [
      "18.384776310850235 16.97056274847714\n"
     ]
    }
   ],
   "source": [
    "b1 = distance(15,16,2,3)\n",
    "b2 = distance(15,16,3,4)\n",
    "print(b1,b2)"
   ]
  },
  {
   "cell_type": "code",
   "execution_count": 87,
   "metadata": {},
   "outputs": [
    {
     "output_type": "stream",
     "name": "stdout",
     "text": [
      "0.0 1.4142135623730951\n"
     ]
    }
   ],
   "source": [
    "c1 = distance(2,3,2,3)\n",
    "c2 = distance(2,3,3,4)\n",
    "print(c1,c2)"
   ]
  },
  {
   "cell_type": "code",
   "execution_count": 88,
   "metadata": {},
   "outputs": [
    {
     "output_type": "stream",
     "name": "stdout",
     "text": [
      "21.213203435596427 19.79898987322333\n"
     ]
    }
   ],
   "source": [
    "d1 = distance(17,18,2,3)\n",
    "d2 = distance(17,18,3,4)\n",
    "print(d1,d2)"
   ]
  },
  {
   "cell_type": "code",
   "execution_count": 96,
   "metadata": {},
   "outputs": [
    {
     "output_type": "stream",
     "name": "stdout",
     "text": [
      "<built-in method __round__ of float object at 0x0000026EFFEC5C18> 21.213203435596427\n"
     ]
    }
   ],
   "source": [
    "e1 = distance(18,19,2,3)\n",
    "e2 = distance(18,19,3,4)\n",
    "print(e1,e2)\n"
   ]
  },
  {
   "cell_type": "code",
   "execution_count": 90,
   "metadata": {},
   "outputs": [
    {
     "output_type": "stream",
     "name": "stdout",
     "text": [
      "1.4142135623730951 2.8284271247461903\n"
     ]
    }
   ],
   "source": [
    "f1 = distance(1,2,2,3)\n",
    "f2 = distance(1,2,3,4)\n",
    "print(f1,f2)"
   ]
  },
  {
   "cell_type": "code",
   "execution_count": 91,
   "metadata": {},
   "outputs": [
    {
     "output_type": "execute_result",
     "data": {
      "text/plain": [
       "59.39696961966999"
      ]
     },
     "metadata": {},
     "execution_count": 91
    }
   ],
   "source": [
    "min(a1,a2)+min(b1,b2)+min(c1,c2)+min(d1,d2)+min(e1,e2)+min(f1,f2)"
   ]
  },
  {
   "cell_type": "code",
   "execution_count": null,
   "metadata": {},
   "outputs": [],
   "source": []
  },
  {
   "cell_type": "code",
   "execution_count": null,
   "metadata": {},
   "outputs": [],
   "source": []
  },
  {
   "cell_type": "code",
   "execution_count": null,
   "metadata": {},
   "outputs": [],
   "source": []
  },
  {
   "cell_type": "code",
   "execution_count": 92,
   "metadata": {},
   "outputs": [],
   "source": [
    "import numpy as np\n",
    "import matplotlib.pyplot as plt\n",
    "from sklearn.datasets import make_blobs"
   ]
  },
  {
   "cell_type": "code",
   "execution_count": 93,
   "metadata": {},
   "outputs": [
    {
     "output_type": "execute_result",
     "data": {
      "text/plain": [
       "(array([[ 0.23056238, -3.19693308],\n",
       "        [-1.00279192,  5.58267113],\n",
       "        [-2.0181063 ,  5.47234237],\n",
       "        [-1.66108961,  9.28385103],\n",
       "        [ 0.47661316, -4.36580108],\n",
       "        [ 0.62154412,  7.5112119 ],\n",
       "        [ 1.80268572, -3.91873285],\n",
       "        [ 0.46996627, -5.25967387],\n",
       "        [ 0.31846645, -3.91041611],\n",
       "        [-0.10501581,  9.38877733],\n",
       "        [ 2.04568378, -3.81554969],\n",
       "        [-0.60597356,  4.96419597],\n",
       "        [-1.17748261, -5.79612551],\n",
       "        [ 0.16778478, -3.45239581],\n",
       "        [ 1.56478684, -5.75804001],\n",
       "        [ 3.11998695, -4.88489632],\n",
       "        [ 1.74529925, -2.79874495],\n",
       "        [-1.27814755,  6.47737193],\n",
       "        [-1.71938605,  8.11623986],\n",
       "        [ 1.15351238, -4.41635404],\n",
       "        [ 2.81087683, -2.58268609],\n",
       "        [-0.16657398, -2.93324861],\n",
       "        [ 1.76863255, -4.97974861],\n",
       "        [-0.6131814 ,  7.41113437],\n",
       "        [-1.0119262 , -3.34664335],\n",
       "        [-0.03952393, -3.45286748],\n",
       "        [-0.95008894,  7.21950733],\n",
       "        [ 0.6460819 , -7.41719414],\n",
       "        [ 1.08952126, -3.30811366],\n",
       "        [-2.22962784,  8.78692272],\n",
       "        [ 1.6753638 , -4.55790567],\n",
       "        [ 3.06642213, -4.42899138],\n",
       "        [ 0.56584387, -5.44353518],\n",
       "        [-1.89344544,  5.51823273],\n",
       "        [-2.35495002,  6.1858725 ],\n",
       "        [-1.06819537, -2.66775566],\n",
       "        [ 0.77256534, -5.50029008],\n",
       "        [-2.12696405,  6.6362505 ],\n",
       "        [-3.1860474 ,  5.57891626],\n",
       "        [-2.00862779,  5.26531912],\n",
       "        [ 0.04586692,  8.0382534 ],\n",
       "        [-0.25995656, -5.42613114],\n",
       "        [ 1.24873654,  6.69727118],\n",
       "        [-1.35073482,  6.92217936],\n",
       "        [-1.17904357, -3.98961555],\n",
       "        [-2.05675461,  7.67453016],\n",
       "        [-1.14838883,  4.87364269],\n",
       "        [-2.97035314,  6.70680445],\n",
       "        [-3.06531835,  7.00968998],\n",
       "        [ 1.6962446 , -3.60834422],\n",
       "        [ 0.17350785, -5.87195374],\n",
       "        [-0.55752228, -5.09230773],\n",
       "        [-3.20769969,  6.12661074],\n",
       "        [ 0.82226653,  5.15859931],\n",
       "        [ 2.42779653, -6.51232705],\n",
       "        [ 2.10040456, -6.15124103],\n",
       "        [-0.02535872,  6.61918103],\n",
       "        [ 2.29564556, -6.46135249],\n",
       "        [-0.79922026,  6.37104535],\n",
       "        [-1.09453644, -5.68566415],\n",
       "        [-3.85934567,  6.73376107],\n",
       "        [ 1.13497837, -6.16447269],\n",
       "        [-0.31187328, -4.00360299],\n",
       "        [ 1.13351444, -5.71666429],\n",
       "        [-0.43613094,  7.80715439],\n",
       "        [ 0.34233609, -5.77459419],\n",
       "        [ 1.76864283, -6.00100311],\n",
       "        [-0.57409662,  6.36977755],\n",
       "        [-1.35335004,  8.03475568],\n",
       "        [-3.31875038,  7.0249836 ],\n",
       "        [-1.34132712, -3.99330043],\n",
       "        [-0.75958002, -5.91153371],\n",
       "        [-3.92787465,  6.80007394],\n",
       "        [-0.88205082,  6.87590816],\n",
       "        [ 0.39375694,  7.72759144],\n",
       "        [ 0.998735  , -3.82324079],\n",
       "        [ 0.98010362,  6.48356543],\n",
       "        [-3.30691264,  5.46285947],\n",
       "        [-1.94820258,  5.370295  ],\n",
       "        [-1.24277921,  6.07361656],\n",
       "        [-0.78433994,  5.80708615],\n",
       "        [ 0.21477184, -5.23441838],\n",
       "        [-1.79610363,  5.18064237],\n",
       "        [-0.37084245,  6.87224554],\n",
       "        [ 0.64070384, -4.12661056],\n",
       "        [ 0.5347006 ,  6.02894172],\n",
       "        [-3.35838741,  9.35157941],\n",
       "        [-0.19722421,  6.62010134],\n",
       "        [-0.62525398,  7.41856335],\n",
       "        [-2.69987973, -4.39263156],\n",
       "        [-2.24960343,  7.81134302],\n",
       "        [ 0.77687068, -4.42786319],\n",
       "        [-1.80831459,  6.35531092],\n",
       "        [-1.52032658,  6.24368504],\n",
       "        [ 0.99874522, -4.39867194],\n",
       "        [-1.12880661,  5.99262563],\n",
       "        [ 0.87687631, -5.16813878],\n",
       "        [ 1.60374549, -3.54916604],\n",
       "        [ 3.30962791, -5.09346959],\n",
       "        [-0.19005923, -4.41024556]]),\n",
       " array([0, 1, 1, 1, 0, 1, 0, 0, 0, 1, 0, 1, 0, 0, 0, 0, 0, 1, 1, 0, 0, 0,\n",
       "        0, 1, 0, 0, 1, 0, 0, 1, 0, 0, 0, 1, 1, 0, 0, 1, 1, 1, 1, 0, 1, 1,\n",
       "        0, 1, 1, 1, 1, 0, 0, 0, 1, 1, 0, 0, 1, 0, 1, 0, 1, 0, 0, 0, 1, 0,\n",
       "        0, 1, 1, 1, 0, 0, 1, 1, 1, 0, 1, 1, 1, 1, 1, 0, 1, 1, 0, 1, 1, 1,\n",
       "        1, 0, 1, 0, 1, 1, 0, 1, 0, 0, 0, 0]))"
      ]
     },
     "metadata": {},
     "execution_count": 93
    }
   ],
   "source": [
    "dataset = make_blobs(n_samples=100, centers=2, n_features=2, cluster_std=1.2, random_state=100)\n",
    "dataset"
   ]
  },
  {
   "cell_type": "code",
   "execution_count": 94,
   "metadata": {},
   "outputs": [],
   "source": [
    "points = dataset[0]\n"
   ]
  },
  {
   "cell_type": "code",
   "execution_count": 95,
   "metadata": {},
   "outputs": [
    {
     "output_type": "execute_result",
     "data": {
      "text/plain": [
       "<matplotlib.collections.PathCollection at 0x26e810bcbe0>"
      ]
     },
     "metadata": {},
     "execution_count": 95
    },
    {
     "output_type": "display_data",
     "data": {
      "text/plain": "<Figure size 432x288 with 1 Axes>",
      "image/svg+xml": "<?xml version=\"1.0\" encoding=\"utf-8\" standalone=\"no\"?>\r\n<!DOCTYPE svg PUBLIC \"-//W3C//DTD SVG 1.1//EN\"\r\n  \"http://www.w3.org/Graphics/SVG/1.1/DTD/svg11.dtd\">\r\n<!-- Created with matplotlib (https://matplotlib.org/) -->\r\n<svg height=\"252.018125pt\" version=\"1.1\" viewBox=\"0 0 383.982812 252.018125\" width=\"383.982812pt\" xmlns=\"http://www.w3.org/2000/svg\" xmlns:xlink=\"http://www.w3.org/1999/xlink\">\r\n <defs>\r\n  <style type=\"text/css\">\r\n*{stroke-linecap:butt;stroke-linejoin:round;}\r\n  </style>\r\n </defs>\r\n <g id=\"figure_1\">\r\n  <g id=\"patch_1\">\r\n   <path d=\"M -0 252.018125 \r\nL 383.982812 252.018125 \r\nL 383.982812 0 \r\nL -0 0 \r\nz\r\n\" style=\"fill:none;\"/>\r\n  </g>\r\n  <g id=\"axes_1\">\r\n   <g id=\"patch_2\">\r\n    <path d=\"M 38.482813 228.14 \r\nL 373.282813 228.14 \r\nL 373.282813 10.7 \r\nL 38.482813 10.7 \r\nz\r\n\" style=\"fill:#ffffff;\"/>\r\n   </g>\r\n   <g id=\"PathCollection_1\">\r\n    <defs>\r\n     <path d=\"M 0 3 \r\nC 0.795609 3 1.55874 2.683901 2.12132 2.12132 \r\nC 2.683901 1.55874 3 0.795609 3 0 \r\nC 3 -0.795609 2.683901 -1.55874 2.12132 -2.12132 \r\nC 1.55874 -2.683901 0.795609 -3 0 -3 \r\nC -0.795609 -3 -1.55874 -2.683901 -2.12132 -2.12132 \r\nC -2.683901 -1.55874 -3 -0.795609 -3 0 \r\nC -3 0.795609 -2.683901 1.55874 -2.12132 2.12132 \r\nC -1.55874 2.683901 -0.795609 3 0 3 \r\nz\r\n\" id=\"mc0c131c502\" style=\"stroke:#1f77b4;\"/>\r\n    </defs>\r\n    <g clip-path=\"url(#p264f9b0533)\">\r\n     <use style=\"fill:#1f77b4;stroke:#1f77b4;\" x=\"228.522527\" xlink:href=\"#mc0c131c502\" y=\"168.536784\"/>\r\n     <use style=\"fill:#1f77b4;stroke:#1f77b4;\" x=\"176.783549\" xlink:href=\"#mc0c131c502\" y=\"65.439889\"/>\r\n     <use style=\"fill:#1f77b4;stroke:#1f77b4;\" x=\"134.191305\" xlink:href=\"#mc0c131c502\" y=\"66.735455\"/>\r\n     <use style=\"fill:#1f77b4;stroke:#1f77b4;\" x=\"149.168087\" xlink:href=\"#mc0c131c502\" y=\"21.977776\"/>\r\n     <use style=\"fill:#1f77b4;stroke:#1f77b4;\" x=\"238.84431\" xlink:href=\"#mc0c131c502\" y=\"182.262535\"/>\r\n     <use style=\"fill:#1f77b4;stroke:#1f77b4;\" x=\"244.924135\" xlink:href=\"#mc0c131c502\" y=\"42.793474\"/>\r\n     <use style=\"fill:#1f77b4;stroke:#1f77b4;\" x=\"294.4728\" xlink:href=\"#mc0c131c502\" y=\"177.012715\"/>\r\n     <use style=\"fill:#1f77b4;stroke:#1f77b4;\" x=\"238.565474\" xlink:href=\"#mc0c131c502\" y=\"192.75908\"/>\r\n     <use style=\"fill:#1f77b4;stroke:#1f77b4;\" x=\"232.210085\" xlink:href=\"#mc0c131c502\" y=\"176.915053\"/>\r\n     <use style=\"fill:#1f77b4;stroke:#1f77b4;\" x=\"214.445086\" xlink:href=\"#mc0c131c502\" y=\"20.74565\"/>\r\n     <use style=\"fill:#1f77b4;stroke:#1f77b4;\" x=\"304.666522\" xlink:href=\"#mc0c131c502\" y=\"175.801058\"/>\r\n     <use style=\"fill:#1f77b4;stroke:#1f77b4;\" x=\"193.430004\" xlink:href=\"#mc0c131c502\" y=\"72.702503\"/>\r\n     <use style=\"fill:#1f77b4;stroke:#1f77b4;\" x=\"169.455308\" xlink:href=\"#mc0c131c502\" y=\"199.05851\"/>\r\n     <use style=\"fill:#1f77b4;stroke:#1f77b4;\" x=\"225.889018\" xlink:href=\"#mc0c131c502\" y=\"171.536625\"/>\r\n     <use style=\"fill:#1f77b4;stroke:#1f77b4;\" x=\"284.492987\" xlink:href=\"#mc0c131c502\" y=\"198.61128\"/>\r\n     <use style=\"fill:#1f77b4;stroke:#1f77b4;\" x=\"349.733334\" xlink:href=\"#mc0c131c502\" y=\"188.358152\"/>\r\n     <use style=\"fill:#1f77b4;stroke:#1f77b4;\" x=\"292.065448\" xlink:href=\"#mc0c131c502\" y=\"163.860952\"/>\r\n     <use style=\"fill:#1f77b4;stroke:#1f77b4;\" x=\"165.232433\" xlink:href=\"#mc0c131c502\" y=\"54.933622\"/>\r\n     <use style=\"fill:#1f77b4;stroke:#1f77b4;\" x=\"146.722563\" xlink:href=\"#mc0c131c502\" y=\"35.688768\"/>\r\n     <use style=\"fill:#1f77b4;stroke:#1f77b4;\" x=\"267.240102\" xlink:href=\"#mc0c131c502\" y=\"182.856167\"/>\r\n     <use style=\"fill:#1f77b4;stroke:#1f77b4;\" x=\"336.766224\" xlink:href=\"#mc0c131c502\" y=\"161.323822\"/>\r\n     <use style=\"fill:#1f77b4;stroke:#1f77b4;\" x=\"211.862732\" xlink:href=\"#mc0c131c502\" y=\"165.440397\"/>\r\n     <use style=\"fill:#1f77b4;stroke:#1f77b4;\" x=\"293.044276\" xlink:href=\"#mc0c131c502\" y=\"189.471981\"/>\r\n     <use style=\"fill:#1f77b4;stroke:#1f77b4;\" x=\"193.127636\" xlink:href=\"#mc0c131c502\" y=\"43.968662\"/>\r\n     <use style=\"fill:#1f77b4;stroke:#1f77b4;\" x=\"176.400368\" xlink:href=\"#mc0c131c502\" y=\"170.294798\"/>\r\n     <use style=\"fill:#1f77b4;stroke:#1f77b4;\" x=\"217.192457\" xlink:href=\"#mc0c131c502\" y=\"171.542164\"/>\r\n     <use style=\"fill:#1f77b4;stroke:#1f77b4;\" x=\"178.994429\" xlink:href=\"#mc0c131c502\" y=\"46.218894\"/>\r\n     <use style=\"fill:#1f77b4;stroke:#1f77b4;\" x=\"245.953491\" xlink:href=\"#mc0c131c502\" y=\"218.09435\"/>\r\n     <use style=\"fill:#1f77b4;stroke:#1f77b4;\" x=\"264.555687\" xlink:href=\"#mc0c131c502\" y=\"169.842352\"/>\r\n     <use style=\"fill:#1f77b4;stroke:#1f77b4;\" x=\"125.318017\" xlink:href=\"#mc0c131c502\" y=\"27.813092\"/>\r\n     <use style=\"fill:#1f77b4;stroke:#1f77b4;\" x=\"289.13167\" xlink:href=\"#mc0c131c502\" y=\"184.518376\"/>\r\n     <use style=\"fill:#1f77b4;stroke:#1f77b4;\" x=\"347.486301\" xlink:href=\"#mc0c131c502\" y=\"183.004564\"/>\r\n     <use style=\"fill:#1f77b4;stroke:#1f77b4;\" x=\"242.587521\" xlink:href=\"#mc0c131c502\" y=\"194.918122\"/>\r\n     <use style=\"fill:#1f77b4;stroke:#1f77b4;\" x=\"139.420805\" xlink:href=\"#mc0c131c502\" y=\"66.196575\"/>\r\n     <use style=\"fill:#1f77b4;stroke:#1f77b4;\" x=\"120.060776\" xlink:href=\"#mc0c131c502\" y=\"58.356633\"/>\r\n     <use style=\"fill:#1f77b4;stroke:#1f77b4;\" x=\"174.039887\" xlink:href=\"#mc0c131c502\" y=\"162.322774\"/>\r\n     <use style=\"fill:#1f77b4;stroke:#1f77b4;\" x=\"251.259447\" xlink:href=\"#mc0c131c502\" y=\"195.584581\"/>\r\n     <use style=\"fill:#1f77b4;stroke:#1f77b4;\" x=\"129.624743\" xlink:href=\"#mc0c131c502\" y=\"53.067947\"/>\r\n     <use style=\"fill:#1f77b4;stroke:#1f77b4;\" x=\"85.1964\" xlink:href=\"#mc0c131c502\" y=\"65.483982\"/>\r\n     <use style=\"fill:#1f77b4;stroke:#1f77b4;\" x=\"134.588927\" xlink:href=\"#mc0c131c502\" y=\"69.166482\"/>\r\n     <use style=\"fill:#1f77b4;stroke:#1f77b4;\" x=\"220.774587\" xlink:href=\"#mc0c131c502\" y=\"36.604546\"/>\r\n     <use style=\"fill:#1f77b4;stroke:#1f77b4;\" x=\"207.945351\" xlink:href=\"#mc0c131c502\" y=\"194.71375\"/>\r\n     <use style=\"fill:#1f77b4;stroke:#1f77b4;\" x=\"271.234738\" xlink:href=\"#mc0c131c502\" y=\"52.351395\"/>\r\n     <use style=\"fill:#1f77b4;stroke:#1f77b4;\" x=\"162.187411\" xlink:href=\"#mc0c131c502\" y=\"49.710349\"/>\r\n     <use style=\"fill:#1f77b4;stroke:#1f77b4;\" x=\"169.389826\" xlink:href=\"#mc0c131c502\" y=\"177.845074\"/>\r\n     <use style=\"fill:#1f77b4;stroke:#1f77b4;\" x=\"132.570016\" xlink:href=\"#mc0c131c502\" y=\"40.875665\"/>\r\n     <use style=\"fill:#1f77b4;stroke:#1f77b4;\" x=\"170.675787\" xlink:href=\"#mc0c131c502\" y=\"73.765849\"/>\r\n     <use style=\"fill:#1f77b4;stroke:#1f77b4;\" x=\"94.244733\" xlink:href=\"#mc0c131c502\" y=\"52.239448\"/>\r\n     <use style=\"fill:#1f77b4;stroke:#1f77b4;\" x=\"90.26096\" xlink:href=\"#mc0c131c502\" y=\"48.682732\"/>\r\n     <use style=\"fill:#1f77b4;stroke:#1f77b4;\" x=\"290.007615\" xlink:href=\"#mc0c131c502\" y=\"173.367892\"/>\r\n     <use style=\"fill:#1f77b4;stroke:#1f77b4;\" x=\"226.1291\" xlink:href=\"#mc0c131c502\" y=\"199.948943\"/>\r\n     <use style=\"fill:#1f77b4;stroke:#1f77b4;\" x=\"195.462526\" xlink:href=\"#mc0c131c502\" y=\"190.793737\"/>\r\n     <use style=\"fill:#1f77b4;stroke:#1f77b4;\" x=\"84.28809\" xlink:href=\"#mc0c131c502\" y=\"59.05253\"/>\r\n     <use style=\"fill:#1f77b4;stroke:#1f77b4;\" x=\"253.344402\" xlink:href=\"#mc0c131c502\" y=\"70.419668\"/>\r\n     <use style=\"fill:#1f77b4;stroke:#1f77b4;\" x=\"320.696078\" xlink:href=\"#mc0c131c502\" y=\"207.468701\"/>\r\n     <use style=\"fill:#1f77b4;stroke:#1f77b4;\" x=\"306.962048\" xlink:href=\"#mc0c131c502\" y=\"203.22855\"/>\r\n     <use style=\"fill:#1f77b4;stroke:#1f77b4;\" x=\"217.786685\" xlink:href=\"#mc0c131c502\" y=\"53.268389\"/>\r\n     <use style=\"fill:#1f77b4;stroke:#1f77b4;\" x=\"315.152371\" xlink:href=\"#mc0c131c502\" y=\"206.870119\"/>\r\n     <use style=\"fill:#1f77b4;stroke:#1f77b4;\" x=\"185.323342\" xlink:href=\"#mc0c131c502\" y=\"56.18219\"/>\r\n     <use style=\"fill:#1f77b4;stroke:#1f77b4;\" x=\"172.934884\" xlink:href=\"#mc0c131c502\" y=\"197.761387\"/>\r\n     <use style=\"fill:#1f77b4;stroke:#1f77b4;\" x=\"56.951666\" xlink:href=\"#mc0c131c502\" y=\"51.922902\"/>\r\n     <use style=\"fill:#1f77b4;stroke:#1f77b4;\" x=\"266.462604\" xlink:href=\"#mc0c131c502\" y=\"203.383927\"/>\r\n     <use style=\"fill:#1f77b4;stroke:#1f77b4;\" x=\"205.767454\" xlink:href=\"#mc0c131c502\" y=\"178.009325\"/>\r\n     <use style=\"fill:#1f77b4;stroke:#1f77b4;\" x=\"266.401193\" xlink:href=\"#mc0c131c502\" y=\"198.125415\"/>\r\n     <use style=\"fill:#1f77b4;stroke:#1f77b4;\" x=\"200.554869\" xlink:href=\"#mc0c131c502\" y=\"39.318289\"/>\r\n     <use style=\"fill:#1f77b4;stroke:#1f77b4;\" x=\"233.211412\" xlink:href=\"#mc0c131c502\" y=\"198.805672\"/>\r\n     <use style=\"fill:#1f77b4;stroke:#1f77b4;\" x=\"293.044707\" xlink:href=\"#mc0c131c502\" y=\"201.464341\"/>\r\n     <use style=\"fill:#1f77b4;stroke:#1f77b4;\" x=\"194.767235\" xlink:href=\"#mc0c131c502\" y=\"56.197078\"/>\r\n     <use style=\"fill:#1f77b4;stroke:#1f77b4;\" x=\"162.077703\" xlink:href=\"#mc0c131c502\" y=\"36.645618\"/>\r\n     <use style=\"fill:#1f77b4;stroke:#1f77b4;\" x=\"79.629535\" xlink:href=\"#mc0c131c502\" y=\"48.503142\"/>\r\n     <use style=\"fill:#1f77b4;stroke:#1f77b4;\" x=\"162.582062\" xlink:href=\"#mc0c131c502\" y=\"177.888345\"/>\r\n     <use style=\"fill:#1f77b4;stroke:#1f77b4;\" x=\"186.986242\" xlink:href=\"#mc0c131c502\" y=\"200.413722\"/>\r\n     <use style=\"fill:#1f77b4;stroke:#1f77b4;\" x=\"54.076889\" xlink:href=\"#mc0c131c502\" y=\"51.144205\"/>\r\n     <use style=\"fill:#1f77b4;stroke:#1f77b4;\" x=\"181.848616\" xlink:href=\"#mc0c131c502\" y=\"50.253701\"/>\r\n     <use style=\"fill:#1f77b4;stroke:#1f77b4;\" x=\"235.368507\" xlink:href=\"#mc0c131c502\" y=\"40.252578\"/>\r\n     <use style=\"fill:#1f77b4;stroke:#1f77b4;\" x=\"260.747221\" xlink:href=\"#mc0c131c502\" y=\"175.891373\"/>\r\n     <use style=\"fill:#1f77b4;stroke:#1f77b4;\" x=\"259.965638\" xlink:href=\"#mc0c131c502\" y=\"54.860893\"/>\r\n     <use style=\"fill:#1f77b4;stroke:#1f77b4;\" x=\"80.126126\" xlink:href=\"#mc0c131c502\" y=\"66.84681\"/>\r\n     <use style=\"fill:#1f77b4;stroke:#1f77b4;\" x=\"137.123753\" xlink:href=\"#mc0c131c502\" y=\"67.933774\"/>\r\n     <use style=\"fill:#1f77b4;stroke:#1f77b4;\" x=\"166.716128\" xlink:href=\"#mc0c131c502\" y=\"59.674829\"/>\r\n     <use style=\"fill:#1f77b4;stroke:#1f77b4;\" x=\"185.947568\" xlink:href=\"#mc0c131c502\" y=\"62.804635\"/>\r\n     <use style=\"fill:#1f77b4;stroke:#1f77b4;\" x=\"227.860116\" xlink:href=\"#mc0c131c502\" y=\"192.462511\"/>\r\n     <use style=\"fill:#1f77b4;stroke:#1f77b4;\" x=\"143.504275\" xlink:href=\"#mc0c131c502\" y=\"70.160822\"/>\r\n     <use style=\"fill:#1f77b4;stroke:#1f77b4;\" x=\"203.293709\" xlink:href=\"#mc0c131c502\" y=\"50.296711\"/>\r\n     <use style=\"fill:#1f77b4;stroke:#1f77b4;\" x=\"245.727882\" xlink:href=\"#mc0c131c502\" y=\"179.453775\"/>\r\n     <use style=\"fill:#1f77b4;stroke:#1f77b4;\" x=\"241.281067\" xlink:href=\"#mc0c131c502\" y=\"60.199435\"/>\r\n     <use style=\"fill:#1f77b4;stroke:#1f77b4;\" x=\"77.966769\" xlink:href=\"#mc0c131c502\" y=\"21.182457\"/>\r\n     <use style=\"fill:#1f77b4;stroke:#1f77b4;\" x=\"210.576961\" xlink:href=\"#mc0c131c502\" y=\"53.257582\"/>\r\n     <use style=\"fill:#1f77b4;stroke:#1f77b4;\" x=\"192.621194\" xlink:href=\"#mc0c131c502\" y=\"43.881425\"/>\r\n     <use style=\"fill:#1f77b4;stroke:#1f77b4;\" x=\"105.59104\" xlink:href=\"#mc0c131c502\" y=\"182.577599\"/>\r\n     <use style=\"fill:#1f77b4;stroke:#1f77b4;\" x=\"124.480045\" xlink:href=\"#mc0c131c502\" y=\"39.269102\"/>\r\n     <use style=\"fill:#1f77b4;stroke:#1f77b4;\" x=\"251.440055\" xlink:href=\"#mc0c131c502\" y=\"182.991316\"/>\r\n     <use style=\"fill:#1f77b4;stroke:#1f77b4;\" x=\"142.992028\" xlink:href=\"#mc0c131c502\" y=\"56.366956\"/>\r\n     <use style=\"fill:#1f77b4;stroke:#1f77b4;\" x=\"155.073069\" xlink:href=\"#mc0c131c502\" y=\"57.677754\"/>\r\n     <use style=\"fill:#1f77b4;stroke:#1f77b4;\" x=\"260.74765\" xlink:href=\"#mc0c131c502\" y=\"182.64853\"/>\r\n     <use style=\"fill:#1f77b4;stroke:#1f77b4;\" x=\"171.497257\" xlink:href=\"#mc0c131c502\" y=\"60.625887\"/>\r\n     <use style=\"fill:#1f77b4;stroke:#1f77b4;\" x=\"255.635272\" xlink:href=\"#mc0c131c502\" y=\"191.684204\"/>\r\n     <use style=\"fill:#1f77b4;stroke:#1f77b4;\" x=\"286.127295\" xlink:href=\"#mc0c131c502\" y=\"172.672976\"/>\r\n     <use style=\"fill:#1f77b4;stroke:#1f77b4;\" x=\"357.688736\" xlink:href=\"#mc0c131c502\" y=\"190.807381\"/>\r\n     <use style=\"fill:#1f77b4;stroke:#1f77b4;\" x=\"210.87753\" xlink:href=\"#mc0c131c502\" y=\"182.784437\"/>\r\n    </g>\r\n   </g>\r\n   <g id=\"matplotlib.axis_1\">\r\n    <g id=\"xtick_1\">\r\n     <g id=\"line2d_1\">\r\n      <defs>\r\n       <path d=\"M 0 0 \r\nL 0 3.5 \r\n\" id=\"m4fc7db7704\" style=\"stroke:#000000;stroke-width:0.8;\"/>\r\n      </defs>\r\n      <g>\r\n       <use style=\"stroke:#000000;stroke-width:0.8;\" x=\"51.051244\" xlink:href=\"#m4fc7db7704\" y=\"228.14\"/>\r\n      </g>\r\n     </g>\r\n     <g id=\"text_1\">\r\n      <!-- −4 -->\r\n      <defs>\r\n       <path d=\"M 10.59375 35.5 \r\nL 73.1875 35.5 \r\nL 73.1875 27.203125 \r\nL 10.59375 27.203125 \r\nz\r\n\" id=\"DejaVuSans-8722\"/>\r\n       <path d=\"M 37.796875 64.3125 \r\nL 12.890625 25.390625 \r\nL 37.796875 25.390625 \r\nz\r\nM 35.203125 72.90625 \r\nL 47.609375 72.90625 \r\nL 47.609375 25.390625 \r\nL 58.015625 25.390625 \r\nL 58.015625 17.1875 \r\nL 47.609375 17.1875 \r\nL 47.609375 0 \r\nL 37.796875 0 \r\nL 37.796875 17.1875 \r\nL 4.890625 17.1875 \r\nL 4.890625 26.703125 \r\nz\r\n\" id=\"DejaVuSans-52\"/>\r\n      </defs>\r\n      <g transform=\"translate(43.68015 242.738437)scale(0.1 -0.1)\">\r\n       <use xlink:href=\"#DejaVuSans-8722\"/>\r\n       <use x=\"83.789062\" xlink:href=\"#DejaVuSans-52\"/>\r\n      </g>\r\n     </g>\r\n    </g>\r\n    <g id=\"xtick_2\">\r\n     <g id=\"line2d_2\">\r\n      <g>\r\n       <use style=\"stroke:#000000;stroke-width:0.8;\" x=\"93.001053\" xlink:href=\"#m4fc7db7704\" y=\"228.14\"/>\r\n      </g>\r\n     </g>\r\n     <g id=\"text_2\">\r\n      <!-- −3 -->\r\n      <defs>\r\n       <path d=\"M 40.578125 39.3125 \r\nQ 47.65625 37.796875 51.625 33 \r\nQ 55.609375 28.21875 55.609375 21.1875 \r\nQ 55.609375 10.40625 48.1875 4.484375 \r\nQ 40.765625 -1.421875 27.09375 -1.421875 \r\nQ 22.515625 -1.421875 17.65625 -0.515625 \r\nQ 12.796875 0.390625 7.625 2.203125 \r\nL 7.625 11.71875 \r\nQ 11.71875 9.328125 16.59375 8.109375 \r\nQ 21.484375 6.890625 26.8125 6.890625 \r\nQ 36.078125 6.890625 40.9375 10.546875 \r\nQ 45.796875 14.203125 45.796875 21.1875 \r\nQ 45.796875 27.640625 41.28125 31.265625 \r\nQ 36.765625 34.90625 28.71875 34.90625 \r\nL 20.21875 34.90625 \r\nL 20.21875 43.015625 \r\nL 29.109375 43.015625 \r\nQ 36.375 43.015625 40.234375 45.921875 \r\nQ 44.09375 48.828125 44.09375 54.296875 \r\nQ 44.09375 59.90625 40.109375 62.90625 \r\nQ 36.140625 65.921875 28.71875 65.921875 \r\nQ 24.65625 65.921875 20.015625 65.03125 \r\nQ 15.375 64.15625 9.8125 62.3125 \r\nL 9.8125 71.09375 \r\nQ 15.4375 72.65625 20.34375 73.4375 \r\nQ 25.25 74.21875 29.59375 74.21875 \r\nQ 40.828125 74.21875 47.359375 69.109375 \r\nQ 53.90625 64.015625 53.90625 55.328125 \r\nQ 53.90625 49.265625 50.4375 45.09375 \r\nQ 46.96875 40.921875 40.578125 39.3125 \r\nz\r\n\" id=\"DejaVuSans-51\"/>\r\n      </defs>\r\n      <g transform=\"translate(85.629959 242.738437)scale(0.1 -0.1)\">\r\n       <use xlink:href=\"#DejaVuSans-8722\"/>\r\n       <use x=\"83.789062\" xlink:href=\"#DejaVuSans-51\"/>\r\n      </g>\r\n     </g>\r\n    </g>\r\n    <g id=\"xtick_3\">\r\n     <g id=\"line2d_3\">\r\n      <g>\r\n       <use style=\"stroke:#000000;stroke-width:0.8;\" x=\"134.950861\" xlink:href=\"#m4fc7db7704\" y=\"228.14\"/>\r\n      </g>\r\n     </g>\r\n     <g id=\"text_3\">\r\n      <!-- −2 -->\r\n      <defs>\r\n       <path d=\"M 19.1875 8.296875 \r\nL 53.609375 8.296875 \r\nL 53.609375 0 \r\nL 7.328125 0 \r\nL 7.328125 8.296875 \r\nQ 12.9375 14.109375 22.625 23.890625 \r\nQ 32.328125 33.6875 34.8125 36.53125 \r\nQ 39.546875 41.84375 41.421875 45.53125 \r\nQ 43.3125 49.21875 43.3125 52.78125 \r\nQ 43.3125 58.59375 39.234375 62.25 \r\nQ 35.15625 65.921875 28.609375 65.921875 \r\nQ 23.96875 65.921875 18.8125 64.3125 \r\nQ 13.671875 62.703125 7.8125 59.421875 \r\nL 7.8125 69.390625 \r\nQ 13.765625 71.78125 18.9375 73 \r\nQ 24.125 74.21875 28.421875 74.21875 \r\nQ 39.75 74.21875 46.484375 68.546875 \r\nQ 53.21875 62.890625 53.21875 53.421875 \r\nQ 53.21875 48.921875 51.53125 44.890625 \r\nQ 49.859375 40.875 45.40625 35.40625 \r\nQ 44.1875 33.984375 37.640625 27.21875 \r\nQ 31.109375 20.453125 19.1875 8.296875 \r\nz\r\n\" id=\"DejaVuSans-50\"/>\r\n      </defs>\r\n      <g transform=\"translate(127.579767 242.738437)scale(0.1 -0.1)\">\r\n       <use xlink:href=\"#DejaVuSans-8722\"/>\r\n       <use x=\"83.789062\" xlink:href=\"#DejaVuSans-50\"/>\r\n      </g>\r\n     </g>\r\n    </g>\r\n    <g id=\"xtick_4\">\r\n     <g id=\"line2d_4\">\r\n      <g>\r\n       <use style=\"stroke:#000000;stroke-width:0.8;\" x=\"176.90067\" xlink:href=\"#m4fc7db7704\" y=\"228.14\"/>\r\n      </g>\r\n     </g>\r\n     <g id=\"text_4\">\r\n      <!-- −1 -->\r\n      <defs>\r\n       <path d=\"M 12.40625 8.296875 \r\nL 28.515625 8.296875 \r\nL 28.515625 63.921875 \r\nL 10.984375 60.40625 \r\nL 10.984375 69.390625 \r\nL 28.421875 72.90625 \r\nL 38.28125 72.90625 \r\nL 38.28125 8.296875 \r\nL 54.390625 8.296875 \r\nL 54.390625 0 \r\nL 12.40625 0 \r\nz\r\n\" id=\"DejaVuSans-49\"/>\r\n      </defs>\r\n      <g transform=\"translate(169.529576 242.738437)scale(0.1 -0.1)\">\r\n       <use xlink:href=\"#DejaVuSans-8722\"/>\r\n       <use x=\"83.789062\" xlink:href=\"#DejaVuSans-49\"/>\r\n      </g>\r\n     </g>\r\n    </g>\r\n    <g id=\"xtick_5\">\r\n     <g id=\"line2d_5\">\r\n      <g>\r\n       <use style=\"stroke:#000000;stroke-width:0.8;\" x=\"218.850479\" xlink:href=\"#m4fc7db7704\" y=\"228.14\"/>\r\n      </g>\r\n     </g>\r\n     <g id=\"text_5\">\r\n      <!-- 0 -->\r\n      <defs>\r\n       <path d=\"M 31.78125 66.40625 \r\nQ 24.171875 66.40625 20.328125 58.90625 \r\nQ 16.5 51.421875 16.5 36.375 \r\nQ 16.5 21.390625 20.328125 13.890625 \r\nQ 24.171875 6.390625 31.78125 6.390625 \r\nQ 39.453125 6.390625 43.28125 13.890625 \r\nQ 47.125 21.390625 47.125 36.375 \r\nQ 47.125 51.421875 43.28125 58.90625 \r\nQ 39.453125 66.40625 31.78125 66.40625 \r\nz\r\nM 31.78125 74.21875 \r\nQ 44.046875 74.21875 50.515625 64.515625 \r\nQ 56.984375 54.828125 56.984375 36.375 \r\nQ 56.984375 17.96875 50.515625 8.265625 \r\nQ 44.046875 -1.421875 31.78125 -1.421875 \r\nQ 19.53125 -1.421875 13.0625 8.265625 \r\nQ 6.59375 17.96875 6.59375 36.375 \r\nQ 6.59375 54.828125 13.0625 64.515625 \r\nQ 19.53125 74.21875 31.78125 74.21875 \r\nz\r\n\" id=\"DejaVuSans-48\"/>\r\n      </defs>\r\n      <g transform=\"translate(215.669229 242.738437)scale(0.1 -0.1)\">\r\n       <use xlink:href=\"#DejaVuSans-48\"/>\r\n      </g>\r\n     </g>\r\n    </g>\r\n    <g id=\"xtick_6\">\r\n     <g id=\"line2d_6\">\r\n      <g>\r\n       <use style=\"stroke:#000000;stroke-width:0.8;\" x=\"260.800287\" xlink:href=\"#m4fc7db7704\" y=\"228.14\"/>\r\n      </g>\r\n     </g>\r\n     <g id=\"text_6\">\r\n      <!-- 1 -->\r\n      <g transform=\"translate(257.619037 242.738437)scale(0.1 -0.1)\">\r\n       <use xlink:href=\"#DejaVuSans-49\"/>\r\n      </g>\r\n     </g>\r\n    </g>\r\n    <g id=\"xtick_7\">\r\n     <g id=\"line2d_7\">\r\n      <g>\r\n       <use style=\"stroke:#000000;stroke-width:0.8;\" x=\"302.750096\" xlink:href=\"#m4fc7db7704\" y=\"228.14\"/>\r\n      </g>\r\n     </g>\r\n     <g id=\"text_7\">\r\n      <!-- 2 -->\r\n      <g transform=\"translate(299.568846 242.738437)scale(0.1 -0.1)\">\r\n       <use xlink:href=\"#DejaVuSans-50\"/>\r\n      </g>\r\n     </g>\r\n    </g>\r\n    <g id=\"xtick_8\">\r\n     <g id=\"line2d_8\">\r\n      <g>\r\n       <use style=\"stroke:#000000;stroke-width:0.8;\" x=\"344.699905\" xlink:href=\"#m4fc7db7704\" y=\"228.14\"/>\r\n      </g>\r\n     </g>\r\n     <g id=\"text_8\">\r\n      <!-- 3 -->\r\n      <g transform=\"translate(341.518655 242.738437)scale(0.1 -0.1)\">\r\n       <use xlink:href=\"#DejaVuSans-51\"/>\r\n      </g>\r\n     </g>\r\n    </g>\r\n   </g>\r\n   <g id=\"matplotlib.axis_2\">\r\n    <g id=\"ytick_1\">\r\n     <g id=\"line2d_9\">\r\n      <defs>\r\n       <path d=\"M 0 0 \r\nL -3.5 0 \r\n\" id=\"m54713ffc82\" style=\"stroke:#000000;stroke-width:0.8;\"/>\r\n      </defs>\r\n      <g>\r\n       <use style=\"stroke:#000000;stroke-width:0.8;\" x=\"38.482813\" xlink:href=\"#m54713ffc82\" y=\"219.06672\"/>\r\n      </g>\r\n     </g>\r\n     <g id=\"text_9\">\r\n      <!-- −7.5 -->\r\n      <defs>\r\n       <path d=\"M 8.203125 72.90625 \r\nL 55.078125 72.90625 \r\nL 55.078125 68.703125 \r\nL 28.609375 0 \r\nL 18.3125 0 \r\nL 43.21875 64.59375 \r\nL 8.203125 64.59375 \r\nz\r\n\" id=\"DejaVuSans-55\"/>\r\n       <path d=\"M 10.6875 12.40625 \r\nL 21 12.40625 \r\nL 21 0 \r\nL 10.6875 0 \r\nz\r\n\" id=\"DejaVuSans-46\"/>\r\n       <path d=\"M 10.796875 72.90625 \r\nL 49.515625 72.90625 \r\nL 49.515625 64.59375 \r\nL 19.828125 64.59375 \r\nL 19.828125 46.734375 \r\nQ 21.96875 47.46875 24.109375 47.828125 \r\nQ 26.265625 48.1875 28.421875 48.1875 \r\nQ 40.625 48.1875 47.75 41.5 \r\nQ 54.890625 34.8125 54.890625 23.390625 \r\nQ 54.890625 11.625 47.5625 5.09375 \r\nQ 40.234375 -1.421875 26.90625 -1.421875 \r\nQ 22.3125 -1.421875 17.546875 -0.640625 \r\nQ 12.796875 0.140625 7.71875 1.703125 \r\nL 7.71875 11.625 \r\nQ 12.109375 9.234375 16.796875 8.0625 \r\nQ 21.484375 6.890625 26.703125 6.890625 \r\nQ 35.15625 6.890625 40.078125 11.328125 \r\nQ 45.015625 15.765625 45.015625 23.390625 \r\nQ 45.015625 31 40.078125 35.4375 \r\nQ 35.15625 39.890625 26.703125 39.890625 \r\nQ 22.75 39.890625 18.8125 39.015625 \r\nQ 14.890625 38.140625 10.796875 36.28125 \r\nz\r\n\" id=\"DejaVuSans-53\"/>\r\n      </defs>\r\n      <g transform=\"translate(7.2 222.865939)scale(0.1 -0.1)\">\r\n       <use xlink:href=\"#DejaVuSans-8722\"/>\r\n       <use x=\"83.789062\" xlink:href=\"#DejaVuSans-55\"/>\r\n       <use x=\"147.412109\" xlink:href=\"#DejaVuSans-46\"/>\r\n       <use x=\"179.199219\" xlink:href=\"#DejaVuSans-53\"/>\r\n      </g>\r\n     </g>\r\n    </g>\r\n    <g id=\"ytick_2\">\r\n     <g id=\"line2d_10\">\r\n      <g>\r\n       <use style=\"stroke:#000000;stroke-width:0.8;\" x=\"38.482813\" xlink:href=\"#m54713ffc82\" y=\"189.709789\"/>\r\n      </g>\r\n     </g>\r\n     <g id=\"text_10\">\r\n      <!-- −5.0 -->\r\n      <g transform=\"translate(7.2 193.509008)scale(0.1 -0.1)\">\r\n       <use xlink:href=\"#DejaVuSans-8722\"/>\r\n       <use x=\"83.789062\" xlink:href=\"#DejaVuSans-53\"/>\r\n       <use x=\"147.412109\" xlink:href=\"#DejaVuSans-46\"/>\r\n       <use x=\"179.199219\" xlink:href=\"#DejaVuSans-48\"/>\r\n      </g>\r\n     </g>\r\n    </g>\r\n    <g id=\"ytick_3\">\r\n     <g id=\"line2d_11\">\r\n      <g>\r\n       <use style=\"stroke:#000000;stroke-width:0.8;\" x=\"38.482813\" xlink:href=\"#m54713ffc82\" y=\"160.352858\"/>\r\n      </g>\r\n     </g>\r\n     <g id=\"text_11\">\r\n      <!-- −2.5 -->\r\n      <g transform=\"translate(7.2 164.152076)scale(0.1 -0.1)\">\r\n       <use xlink:href=\"#DejaVuSans-8722\"/>\r\n       <use x=\"83.789062\" xlink:href=\"#DejaVuSans-50\"/>\r\n       <use x=\"147.412109\" xlink:href=\"#DejaVuSans-46\"/>\r\n       <use x=\"179.199219\" xlink:href=\"#DejaVuSans-53\"/>\r\n      </g>\r\n     </g>\r\n    </g>\r\n    <g id=\"ytick_4\">\r\n     <g id=\"line2d_12\">\r\n      <g>\r\n       <use style=\"stroke:#000000;stroke-width:0.8;\" x=\"38.482813\" xlink:href=\"#m54713ffc82\" y=\"130.995926\"/>\r\n      </g>\r\n     </g>\r\n     <g id=\"text_12\">\r\n      <!-- 0.0 -->\r\n      <g transform=\"translate(15.579688 134.795145)scale(0.1 -0.1)\">\r\n       <use xlink:href=\"#DejaVuSans-48\"/>\r\n       <use x=\"63.623047\" xlink:href=\"#DejaVuSans-46\"/>\r\n       <use x=\"95.410156\" xlink:href=\"#DejaVuSans-48\"/>\r\n      </g>\r\n     </g>\r\n    </g>\r\n    <g id=\"ytick_5\">\r\n     <g id=\"line2d_13\">\r\n      <g>\r\n       <use style=\"stroke:#000000;stroke-width:0.8;\" x=\"38.482813\" xlink:href=\"#m54713ffc82\" y=\"101.638995\"/>\r\n      </g>\r\n     </g>\r\n     <g id=\"text_13\">\r\n      <!-- 2.5 -->\r\n      <g transform=\"translate(15.579688 105.438214)scale(0.1 -0.1)\">\r\n       <use xlink:href=\"#DejaVuSans-50\"/>\r\n       <use x=\"63.623047\" xlink:href=\"#DejaVuSans-46\"/>\r\n       <use x=\"95.410156\" xlink:href=\"#DejaVuSans-53\"/>\r\n      </g>\r\n     </g>\r\n    </g>\r\n    <g id=\"ytick_6\">\r\n     <g id=\"line2d_14\">\r\n      <g>\r\n       <use style=\"stroke:#000000;stroke-width:0.8;\" x=\"38.482813\" xlink:href=\"#m54713ffc82\" y=\"72.282064\"/>\r\n      </g>\r\n     </g>\r\n     <g id=\"text_14\">\r\n      <!-- 5.0 -->\r\n      <g transform=\"translate(15.579688 76.081283)scale(0.1 -0.1)\">\r\n       <use xlink:href=\"#DejaVuSans-53\"/>\r\n       <use x=\"63.623047\" xlink:href=\"#DejaVuSans-46\"/>\r\n       <use x=\"95.410156\" xlink:href=\"#DejaVuSans-48\"/>\r\n      </g>\r\n     </g>\r\n    </g>\r\n    <g id=\"ytick_7\">\r\n     <g id=\"line2d_15\">\r\n      <g>\r\n       <use style=\"stroke:#000000;stroke-width:0.8;\" x=\"38.482813\" xlink:href=\"#m54713ffc82\" y=\"42.925133\"/>\r\n      </g>\r\n     </g>\r\n     <g id=\"text_15\">\r\n      <!-- 7.5 -->\r\n      <g transform=\"translate(15.579688 46.724351)scale(0.1 -0.1)\">\r\n       <use xlink:href=\"#DejaVuSans-55\"/>\r\n       <use x=\"63.623047\" xlink:href=\"#DejaVuSans-46\"/>\r\n       <use x=\"95.410156\" xlink:href=\"#DejaVuSans-53\"/>\r\n      </g>\r\n     </g>\r\n    </g>\r\n    <g id=\"ytick_8\">\r\n     <g id=\"line2d_16\">\r\n      <g>\r\n       <use style=\"stroke:#000000;stroke-width:0.8;\" x=\"38.482813\" xlink:href=\"#m54713ffc82\" y=\"13.568202\"/>\r\n      </g>\r\n     </g>\r\n     <g id=\"text_16\">\r\n      <!-- 10.0 -->\r\n      <g transform=\"translate(9.217188 17.36742)scale(0.1 -0.1)\">\r\n       <use xlink:href=\"#DejaVuSans-49\"/>\r\n       <use x=\"63.623047\" xlink:href=\"#DejaVuSans-48\"/>\r\n       <use x=\"127.246094\" xlink:href=\"#DejaVuSans-46\"/>\r\n       <use x=\"159.033203\" xlink:href=\"#DejaVuSans-48\"/>\r\n      </g>\r\n     </g>\r\n    </g>\r\n   </g>\r\n   <g id=\"patch_3\">\r\n    <path d=\"M 38.482813 228.14 \r\nL 38.482813 10.7 \r\n\" style=\"fill:none;stroke:#000000;stroke-linecap:square;stroke-linejoin:miter;stroke-width:0.8;\"/>\r\n   </g>\r\n   <g id=\"patch_4\">\r\n    <path d=\"M 373.282813 228.14 \r\nL 373.282813 10.7 \r\n\" style=\"fill:none;stroke:#000000;stroke-linecap:square;stroke-linejoin:miter;stroke-width:0.8;\"/>\r\n   </g>\r\n   <g id=\"patch_5\">\r\n    <path d=\"M 38.482813 228.14 \r\nL 373.282813 228.14 \r\n\" style=\"fill:none;stroke:#000000;stroke-linecap:square;stroke-linejoin:miter;stroke-width:0.8;\"/>\r\n   </g>\r\n   <g id=\"patch_6\">\r\n    <path d=\"M 38.482813 10.7 \r\nL 373.282813 10.7 \r\n\" style=\"fill:none;stroke:#000000;stroke-linecap:square;stroke-linejoin:miter;stroke-width:0.8;\"/>\r\n   </g>\r\n  </g>\r\n </g>\r\n <defs>\r\n  <clipPath id=\"p264f9b0533\">\r\n   <rect height=\"217.44\" width=\"334.8\" x=\"38.482813\" y=\"10.7\"/>\r\n  </clipPath>\r\n </defs>\r\n</svg>\r\n",
      "image/png": "[encoded data removed]"
     },
     "metadata": {
      "needs_background": "light"
     }
    }
   ],
   "source": [
    "plt.scatter(dataset[0][:,0], dataset[0][:,1])"
   ]
  },
  {
   "cell_type": "code",
   "execution_count": null,
   "metadata": {},
   "outputs": [],
   "source": []
  }
 ]
}